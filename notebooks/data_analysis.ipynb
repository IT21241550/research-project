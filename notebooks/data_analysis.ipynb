{
 "cells": [
  {
   "cell_type": "code",
   "execution_count": null,
   "metadata": {
    "vscode": {
     "languageId": "plaintext"
    }
   },
   "outputs": [],
   "source": [
    "import pandas as pd\n",
    "import matplotlib.pyplot as plt\n",
    "\n",
    "# Load data\n",
    "data = pd.read_csv('../data/processed/flood_data_cleaned.csv')\n",
    "\n",
    "# Visualize rainfall vs flood occurrence\n",
    "plt.scatter(data['Rainfall(mm)'], data['Flood Occurrence'], c='red')\n",
    "plt.title('Rainfall vs Flood Occurrence')\n",
    "plt.xlabel('Rainfall (mm)')\n",
    "plt.ylabel('Flood Occurrence')\n",
    "plt.show()\n"
   ]
  }
 ],
 "metadata": {
  "language_info": {
   "name": "python"
  }
 },
 "nbformat": 4,
 "nbformat_minor": 2
}
